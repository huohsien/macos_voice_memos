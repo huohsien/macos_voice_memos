{
 "cells": [
  {
   "cell_type": "code",
   "execution_count": 54,
   "metadata": {},
   "outputs": [],
   "source": [
    "import csv"
   ]
  },
  {
   "cell_type": "code",
   "execution_count": 55,
   "metadata": {},
   "outputs": [],
   "source": [
    "rows = []\n",
    "with open('/Users/huohsien/Library/Group Containers/group.com.apple.VoiceMemos.shared/Recordings/ZCLOUDRECORDING.csv') as csvfile:\n",
    "    data_reader = csv.reader(csvfile)\n",
    "    for row in data_reader:\n",
    "        # print(\"{}\".format(row))\n",
    "        rows.append(row)\n",
    "        "
   ]
  },
  {
   "cell_type": "code",
   "execution_count": null,
   "metadata": {},
   "outputs": [],
   "source": [
    "\n",
    "\n",
    "date_format = \"%Y-%m-%d %H:%M:%S%z\"\n",
    "date_time = rows[1][10].split(\"T\")\n",
    "time_str = date_time[1].split(\"Z\")\n",
    "\n",
    "date_str = date_time[0] + \" \" + time_str[0] + \"+08:00\"\n",
    "date_obj = datetime.datetime.strptime(date_str, date_format)\n",
    "date_obj = date_obj + datetime.timedelta(hours=8)\n"
   ]
  },
  {
   "cell_type": "code",
   "execution_count": null,
   "metadata": {},
   "outputs": [],
   "source": [
    "# Z_PK,Z_ENT,Z_OPT,ZFLAGS,ZSHAREDFLAGS,ZFOLDER,ZDATE,ZDURATION,ZEVICTIONDATE,ZLOCALDURATION,ZCUSTOMLABEL,ZCUSTOMLABELFORSORTING,ZENCRYPTEDTITLE,ZPATH,ZUNIQUEID,ZAUDIOFUTUREUUIDS,ZAUDIODIGEST,ZAUDIOFUTURE,ZMTLAYERMIX,ZPLAYBACKPOSITION,ZPLAYBACKRATE,ZSILENCEREMOVERENABLED,ZMTAUDIOFUTURE\n",
    "import datetime\n",
    "format = \"%Y-%m-%d %H:%M:%S\"\n",
    "\n",
    "\n",
    "memo_descs = []\n",
    "rows.sort(key=lambda x: x[10], reverse= True)\n",
    "for idx,row in enumerate(rows):\n",
    "\n",
    "    if idx == 0:\n",
    "        continue\n",
    "    date_format = \"%Y-%m-%d %H:%M:%S%z\"\n",
    "    date_time = row[10].split(\"T\")\n",
    "    time_str = date_time[1].split(\"Z\")\n",
    "\n",
    "    date_str = date_time[0] + \" \" + time_str[0] + \"+08:00\"\n",
    "    date_obj = datetime.datetime.strptime(date_str, date_format)\n",
    "    date_obj = date_obj + datetime.timedelta(hours=8)\n",
    "    print(\"{}: {}\".format(date_obj,row[11]))"
   ]
  }
 ],
 "metadata": {
  "kernelspec": {
   "display_name": "py3",
   "language": "python",
   "name": "python3"
  },
  "language_info": {
   "codemirror_mode": {
    "name": "ipython",
    "version": 3
   },
   "file_extension": ".py",
   "mimetype": "text/x-python",
   "name": "python",
   "nbconvert_exporter": "python",
   "pygments_lexer": "ipython3",
   "version": "3.7.1"
  }
 },
 "nbformat": 4,
 "nbformat_minor": 2
}
